{
 "cells": [
  {
   "cell_type": "markdown",
   "id": "757e8c05",
   "metadata": {},
   "source": [
    "<h1>Part 2a - Data Acquisition and Exploration for Chessboard Detection</h1>"
   ]
  },
  {
   "cell_type": "markdown",
   "id": "8d512f38",
   "metadata": {},
   "source": [
    "<h2>Overview</h2>\n",
    "\n",
    "This section will demonstrate the data labeling GUI for screenshots captured from YouTube. \n",
    "\n",
    "This is a tool I wrote for simplifying the labeling process. The interface is written in tkinter for cross-platform. For now, uses a csv file for keeping screenshot bounding box data.\n",
    "\n",
    "After pointing out some guiding principles and showing a basic function of the labeler, we will explore some examples pointing out some idiosyncracies and conclude with some basic counts."
   ]
  },
  {
   "cell_type": "markdown",
   "id": "ec077487",
   "metadata": {},
   "source": [
    "<h2>A Guide to Screenshot GUI Design</h2>\n",
    "\n",
    "**Methodology aims to lessen the cognitive load of the labeler. <br>\n",
    "  A natural next step is to keep the end user away from dealing with csv file and manual handling of file names and bounding box pixels in there.**\n",
    "\n",
    "To this end, the user can/should:\n",
    "    <li>Label a chessboard object within the GUI with mouse drag </li>\n",
    "    <li>Label multiple objects </li>\n",
    "    <li>Delete any labels that are not desired</li>\n",
    "    <li>Label screenshots in succession.\n",
    "    <li>Move to the next image (or exit) without worrying about whether the work was saved or not.\n",
    "     <br>\n",
    "    \n",
    "The implementation is in gcb_utils/gcb_utils.py\n",
    "        \n",
    "\n",
    "<br>Now, let's briefly explore the process.\n",
    "      "
   ]
  },
  {
   "cell_type": "code",
   "execution_count": 1,
   "id": "37ba5883",
   "metadata": {},
   "outputs": [],
   "source": [
    "#import packages\n",
    "import gcb_utils.gcb_utils as gcb_utils"
   ]
  },
  {
   "cell_type": "code",
   "execution_count": null,
   "id": "ad9b54b0",
   "metadata": {},
   "outputs": [],
   "source": [
    "SCREENSHOT_LABEL_COLUMNS = ['fname', 'height_pxl','width_pxl','label','x_min_pxl','y_min_pxl'    ,'x_max_pxl','y_max_pxl', 'HumCheck-YN']\n",
    "\n",
    "def run_screenshot_label_update():\n",
    "    gcb_utils.insert_data_fnames('data/raw/screenshots', 'data/model/screenshot_boundboxes.csv', SCREENSHOT_LABEL_COLUMNS, update_fn=gcb_utils.screenshot_height_width_update, update_fn_kwargs={'screenshot_path':'.data/raw/screenshots'})\n",
    "    gcb_utils.update_screenshot_labels('data/raw/screenshots', 'data/model/screenshot_boundboxes.csv') \n",
    "\n",
    "run_screenshot_label_update()\n",
    "\n",
    "#please uncomment the below for documentation\n",
    "#print(help(gcb_utils.insert_data_fnames))\n",
    "#print(help(gcb_utils.screenshot_height_width_update))\n",
    "#print(help(gcb_utils.update_screenshot_labels))"
   ]
  },
  {
   "cell_type": "markdown",
   "id": "698da702",
   "metadata": {},
   "source": [
    "<h3>State Before Labeling</h3>\n",
    "\n",
    "![Alt_text](z_markdown_jpgs/BoardLabeling-Empty.png)"
   ]
  },
  {
   "cell_type": "markdown",
   "id": "d9e0dc17",
   "metadata": {},
   "source": [
    "<h3>Add First Label</h3>\n",
    "\n",
    "![](z_markdown_jpgs/BoardLabeling-AddFirstBoard.png)"
   ]
  },
  {
   "cell_type": "markdown",
   "id": "09daed10",
   "metadata": {},
   "source": [
    "<h3>Add Final Label</h3>\n",
    "\n",
    "![](z_markdown_jpgs/BoardLabeling-AddFinalBoard.png)"
   ]
  },
  {
   "cell_type": "markdown",
   "id": "6d413f75",
   "metadata": {},
   "source": [
    "<h2>Labeling Smaller Chessboards: An Example</h2>\n",
    "\n",
    "Some of my screenshots also included previous screenshots and screenshots from a prior point in the video. For completion, I labeled those as well. (The screenshot shown is also from Chess.com's Youtube channel.)\n",
    "\n",
    "<h3>State Before Labeling</h3>\n",
    "\n",
    "![Alt_text](z_markdown_jpgs/BoardLabeling-SmallBoards.png)"
   ]
  },
  {
   "cell_type": "markdown",
   "id": "34cca460",
   "metadata": {},
   "source": [
    "<h2>Note on Labeling Screenshots - Performance / Use</h2>\n",
    "\n",
    "With my methodology, I was able to label around 90 screenshots pretty quickly - in approximately 2-3 hours. At that time, the above labeling process gave me confidence that if I needed more data, I could get more pretty quickly."
   ]
  }
 ],
 "metadata": {
  "interpreter": {
   "hash": "220e10ff8ec8c0a2ee704b9ba1623fbaf79aa98a681a616ca665c089912d6d5d"
  },
  "kernelspec": {
   "display_name": "pyt",
   "language": "python",
   "name": "pyt"
  },
  "language_info": {
   "codemirror_mode": {
    "name": "ipython",
    "version": 3
   },
   "file_extension": ".py",
   "mimetype": "text/x-python",
   "name": "python",
   "nbconvert_exporter": "python",
   "pygments_lexer": "ipython3",
   "version": "3.8.12"
  }
 },
 "nbformat": 4,
 "nbformat_minor": 5
}
