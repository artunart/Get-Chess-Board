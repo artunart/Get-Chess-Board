{
 "cells": [
  {
   "cell_type": "markdown",
   "id": "7426b965",
   "metadata": {},
   "source": [
    "<h1>Part 2a - Data Acquisition Tooling and Exploration for Chessboard Detection</h1>"
   ]
  },
  {
   "cell_type": "markdown",
   "id": "f279ba52",
   "metadata": {},
   "source": [
    "<h2>Overview</h2>\n",
    "\n",
    "This section will demonstrate the data labeling GUI for screenshots captured from YouTube. \n",
    "\n",
    "This is a tool I wrote for simplifying the labeling process. The interface is written in tkinter for cross-platform. For now, uses a csv file for keeping screenshot bounding box data.\n",
    "\n",
    "After pointing out some guiding principles and showing a basic function of the labeler, we will explore some examples pointing out some idiosyncracies and conclude with some basic counts."
   ]
  },
  {
   "cell_type": "markdown",
   "id": "a6fa9804",
   "metadata": {},
   "source": [
    "<h2>A Guide to Screenshot GUI Design</h2>\n",
    "\n",
    "**Methodology aims to lessen the cognitive load of the labeler. <br>\n",
    "  A natural next step is to keep the end user away from dealing with csv file and manual handling of file names and bounding box pixels in there.**\n",
    "\n",
    "To this end, the user can/should:\n",
    "    <li>Label a chessboard object within the GUI with mouse drag </li>\n",
    "    <li>Label multiple objects </li>\n",
    "    <li>Delete any labels that are not desired</li>\n",
    "    <li>Label screenshots in succession.\n",
    "    <li>Move to the next image (or exit) without worrying about whether the work was saved or not.\n",
    "     <br>\n",
    "    \n",
    "The implementation is in gcb_utils/gcb_utils.py\n",
    "        \n",
    "\n",
    "<br>Now, let's briefly explore the process.\n",
    "      "
   ]
  },
  {
   "cell_type": "code",
   "execution_count": 2,
   "id": "ccab38f7",
   "metadata": {},
   "outputs": [],
   "source": [
    "#import packages\n",
    "import gcb_utils.gcb_utils as gcb_utils"
   ]
  },
  {
   "cell_type": "code",
   "execution_count": null,
   "id": "7f9766bb",
   "metadata": {},
   "outputs": [],
   "source": [
    "\n",
    "screenshot_data_path = 'data/raw/screenshots'\n",
    "screenshot_labels_fname = 'data/model/screenshot_boundboxes.csv'\n",
    "SCREENSHOT_LABEL_COLUMNS = ['fname', 'height_pxl','width_pxl','label','x_min_pxl','y_min_pxl'    ,'x_max_pxl','y_max_pxl', 'HumCheck-YN']\n",
    "update_fn = gcb_utils.screenshot_height_width_update\n",
    "\n",
    "\n",
    "\n",
    "SCREENSHOT_LABEL_COLUMNS = ['fname', 'height_pxl','width_pxl','label','x_min_pxl','y_min_pxl'    ,'x_max_pxl','y_max_pxl', 'HumCheck-YN']\n",
    "\n",
    "def run_screenshot_label_update():\n",
    "    gcb_utils.insert_data_fnames(screenshot_data_path, screenshot_labels_fname, SCREENSHOT_LABEL_COLUMNS, update_fn=update_fn, update_fn_kwargs={'screenshot_path':screenshot_data_path})\n",
    "    gcb_utils.update_screenshot_labels(screenshot_data_path, screenshot_labels_fname) \n",
    "\n",
    "run_screenshot_label_update()\n",
    "\n",
    "#please uncomment the below for documentation\n",
    "#print(help(gcb_utils.insert_data_fnames))\n",
    "#print(help(gcb_utils.screenshot_height_width_update))\n",
    "#print(help(gcb_utils.update_screenshot_labels))"
   ]
  },
  {
   "cell_type": "markdown",
   "id": "f1e0bb57",
   "metadata": {},
   "source": [
    "<h3>State Before Labeling</h3>\n",
    "Here, note that bounding box pixels are all NaN before labeling. <br>\n",
    "Labeling is a click-drag-unclick sequence.\n",
    "\n",
    "![Alt_text](z_markdown_jpgs/BoardLabeling-Empty.png)"
   ]
  },
  {
   "cell_type": "markdown",
   "id": "9aa80eb5",
   "metadata": {},
   "source": [
    "<h3>Add First Label</h3>\n",
    "Here, note the updated bounding box values.\n",
    "\n",
    "![](z_markdown_jpgs/BoardLabeling-AddFirstBoard.png)"
   ]
  },
  {
   "cell_type": "markdown",
   "id": "d0fc75c2",
   "metadata": {},
   "source": [
    "<h3>Add Final Label</h3>\n",
    "The GUI also lets you insert multiple labels or delete any mislabels.\n",
    "\n",
    "![](z_markdown_jpgs/BoardLabeling-AddFinalBoard.png)"
   ]
  },
  {
   "cell_type": "markdown",
   "id": "9f030f93",
   "metadata": {},
   "source": [
    "<h2>Labeling Smaller Chessboards: An Example</h2>\n",
    "\n",
    "Some of my screenshots also included previous screenshots and screenshots from a prior point in the video. For completion, I labeled those as well. (The screenshot shown is also from Chess.com's Youtube channel.)\n",
    "\n",
    "\n",
    "![Alt_text](z_markdown_jpgs/BoardLabeling-SmallBoards.png)"
   ]
  },
  {
   "cell_type": "markdown",
   "id": "8784634c",
   "metadata": {},
   "source": [
    "<h2>Notes on Screenshots and Preparing Labels for Training</h2>\n",
    "    \n",
    "<h3> Labeling Speed with the GUI</h3>\n",
    "\n",
    "<li>With my methodology, I was able to label around 80 screenshots pretty quickly - in approximately 2-3 hours. \n",
    "    <li>At that time, the above labeling process gave me confidence that if I needed more data, I could get more pretty quickly. <br><br>\n",
    "        \n",
    "<h3>Information on Screenshots and Screenshot Size Statistics</h3>\n",
    "\n",
    "<li>I have captured the screenshots using a macOS operating system.\n",
    "<li>Each screenshot is 2880x1800 (widthxheight in pixels) in png format. The average size is 3.8Mb (min/max/std: 1.6/7.2/1.3Mb) <br><br>\n",
    "\n",
    "    \n",
    "    \n",
    "<h3>Preparing Screenshots for Training: Yaml file for directories and classes +  yolov5 Labeling Format for boundboxes + Train/Validation/Test Split </h3>\n",
    "    <li>yolov5 requires a .yaml file that indicates directories for training and validation images. The file also requires that the user indicate number of classes in the dataset along with their names.\n",
    "    <li>In addition to indicating image directories and a class mapping, labeling (class+boundingbox) must be available for each image in a specified yolov5 format.I choose to include this information in a separate file for each image.\n",
    "    <li>gcb_utils_prepare_scr_input_for_yolov5 is for this purpose. It creates the yaml file and a label file for each image in yolov5 format [e.g. for bounding boxes representation should normalized over image width and height]\n",
    "    <li>Train/Validation/Test is done by another function: gcb_utils.split_train_valid_test. It randomizes the source images into indicated train/validation/test ratios and transfers them to respective directories at the indicated size along with normalized their label files.\n",
    "     <li>Please refer to gcb_utils.py for more help/information/functionality and gbc_utils_sample_runs.py for a sample runs."
   ]
  },
  {
   "cell_type": "code",
   "execution_count": 7,
   "id": "45ce390f-9468-4993-8d08-096b4f96e7ec",
   "metadata": {},
   "outputs": [],
   "source": [
    "#please uncomment the below for documentation\n",
    "#print(help(gcb_utils.prepare_scr_input_for_yolov5))\n",
    "#print(help(gcb_utils.split_train_valid_test))"
   ]
  }
 ],
 "metadata": {
  "interpreter": {
   "hash": "220e10ff8ec8c0a2ee704b9ba1623fbaf79aa98a681a616ca665c089912d6d5d"
  },
  "kernelspec": {
   "display_name": "metal",
   "language": "python",
   "name": "metal"
  },
  "language_info": {
   "codemirror_mode": {
    "name": "ipython",
    "version": 3
   },
   "file_extension": ".py",
   "mimetype": "text/x-python",
   "name": "python",
   "nbconvert_exporter": "python",
   "pygments_lexer": "ipython3",
   "version": "3.8.12"
  }
 },
 "nbformat": 4,
 "nbformat_minor": 5
}
