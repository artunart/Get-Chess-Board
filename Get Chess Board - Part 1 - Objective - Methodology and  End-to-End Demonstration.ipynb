{
 "cells": [
  {
   "cell_type": "markdown",
   "id": "48a80394",
   "metadata": {},
   "source": [
    "<h1>Part 1 - Objective, Methodology, End-to-End Demonstration</h1>"
   ]
  },
  {
   "cell_type": "markdown",
   "id": "8bf768b4",
   "metadata": {},
   "source": [
    "<h2>Objective</h2>\n",
    "\n",
    "Capture the piece placement of an online chess game from a screen capture. Screenshot -> FEN.\n",
    "\n",
    "A motivation for this project is to facilitate the analysis of chess position by transferring the piece placement into a chess engine. The project will make available \"what-if\" scenarios for the position an real-time interactive position exploration.\n",
    "\n",
    "The end-to-end demonstration below will use a screenshot file as an input and output the board state in form of an FEN.\n",
    "\n",
    "Methodology is described next."
   ]
  },
  {
   "cell_type": "markdown",
   "id": "1d35d5bb",
   "metadata": {},
   "source": [
    "<h2>Methodology + Implementation Classes + Contribution</h2>\n",
    "\n",
    "My **methodology** to approach the piece placement problem is to divide it into sub-problems that are solved one after another. In this implementation the sub-problems are ordered as follows:<ol>\n",
    "    <li>Board Detection </li>\n",
    "    <li>Board Extraction and Splitting into Squares </li>\n",
    "    <li>Square Classification </li>\n",
    "    <li>Combination of Squares and Creation of FEN Piece Placement</li> </ol>\n",
    "    <br>\n",
    "    \n",
    "The **implementation** has two main classes and a utility module: <ol>\n",
    "    <li> Board_Detection(): A labeler, trainer and a detector for creating bounding box proposals for chessboards in a screenshot. Labeler is implemented in gcb_utils using tkinter while trainer and detector are interfaces into PyTorch implementation of Yolov5 (https://github.com/ultralytics/yolov5, see https://pjreddie.com/media/files/papers/yolo.pdf for Yolo.)   \n",
    "        Main methods are update_labels, train and predict.\n",
    "    <li> Piece_Classification(): A labeler, trainer and a detector for classifying piece content of a square. Labeler is implemented in gcb_utils using tkinter while trainer and detector are simple fully connected neural networks created implemented in Tensorflow.   \n",
    "        Main methods are update_labels, train and predict.\n",
    "    <li> gcb_utils: Implements labeling GUIs; chessboard extraction, manipulation and splitting; and FEN piece placement string creation. </ol>\n",
    "    <br>\n",
    "Technical **contributions** of the Project: <ol>\n",
    "    <li> End-to-end neural-network based piece placement generation from a screenshot.\n",
    "    <li> Transfer learning from an object detection model trained on COCO dataset (yolov5 on PyTorch)\n",
    "    <li> Bottom up training of a fully connected classifier (Tensorflow)\n",
    "    <li> Creation of chess-specific and almost platform-independent tkinter-based labeling tools for board labeling and square identification. Tkinter is available on most Unix platforms, macOS and Windows. </ol>\n",
    "        \n",
    "        \n",
    "\n",
    "<br>Now, let's step through the methodology to run through an end-to-end detection path.\n",
    "      "
   ]
  },
  {
   "cell_type": "code",
   "execution_count": 2,
   "id": "5e16a708",
   "metadata": {},
   "outputs": [],
   "source": [
    "#import packages\n",
    "import object_detection\n",
    "import os\n",
    "import pandas as pd\n",
    "import matplotlib.pyplot as plt\n",
    "import seaborn as sns"
   ]
  },
  {
   "cell_type": "markdown",
   "id": "872e9b92",
   "metadata": {},
   "source": [
    "<h2>End-to-End Demonstration </h2>\n",
    "    \n",
    "    <h2> 1. Board Detection</h2>"
   ]
  },
  {
   "cell_type": "code",
   "execution_count": null,
   "id": "48b3463c",
   "metadata": {},
   "outputs": [],
   "source": []
  }
 ],
 "metadata": {
  "interpreter": {
   "hash": "220e10ff8ec8c0a2ee704b9ba1623fbaf79aa98a681a616ca665c089912d6d5d"
  },
  "kernelspec": {
   "display_name": "pyt",
   "language": "python",
   "name": "pyt"
  },
  "language_info": {
   "codemirror_mode": {
    "name": "ipython",
    "version": 3
   },
   "file_extension": ".py",
   "mimetype": "text/x-python",
   "name": "python",
   "nbconvert_exporter": "python",
   "pygments_lexer": "ipython3",
   "version": "3.8.12"
  }
 },
 "nbformat": 4,
 "nbformat_minor": 5
}
