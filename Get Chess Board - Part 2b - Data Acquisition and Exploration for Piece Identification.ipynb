{
 "cells": [
  {
   "cell_type": "markdown",
   "id": "75559544",
   "metadata": {},
   "source": [
    "<h1>Part 2b - Data Acquisition and Exploration for Piece Classification</h1>"
   ]
  },
  {
   "cell_type": "markdown",
   "id": "0e199b8e",
   "metadata": {},
   "source": [
    "<h2>Overview</h2>\n",
    "\n",
    "This section will demonstrate the data labeling GUI for squares. The squares are created by splitting a chessboard into 8ths width- and height-wise. The chessboards themselved are picked up from screenshots captured from YouTube which were labeled in the process capture in Part 2a. \n",
    "\n",
    "This is also atool I wrote for simplifying the labeling process. The interface is written in tkinter for cross-platform. For now, uses a csv file for keeping square content by square color (not deemed necessary at this time), piece color and piece type. There is also a column for whether a human checked the labeling or not.\n",
    "\n",
    "After pointing out some guiding principles and showing a basic function of the labeler, I will conclude with some basic counts."
   ]
  },
  {
   "cell_type": "markdown",
   "id": "4ce0f4fa",
   "metadata": {},
   "source": [
    "<h2>A Guide to Square GUI Design</h2>\n",
    "\n",
    "**Methodology aims to lessen the cognitive load of the labeler. <br>\n",
    "  A natural next step is to keep the end user away from dealing with csv file and manual handling of entering piece type and color in the file..**\n",
    "\n",
    "To this end, the user can/should:\n",
    "    <li>Label a square object within the GUI with mouse click - radio buttons are used for their toggle property.</li>\n",
    "    <li>Use minimum clicks I - default state for a square is set to E(mpty) as one can at most have half the squares filled in a chess game. </li>\n",
    "    <li>Use minimum clicks - A button is added to confirm \"Human Check\" wholesale for the screen</li>\n",
    "    <li>Label sets of squares in succession.\n",
    "    <li>Move to the next image (or exit) without worrying about whether the work was saved or not.\n",
    "     <br>\n",
    "    \n",
    "The implementation is in gcb_utils/gcb_utils.py\n",
    "        \n",
    "\n",
    "<br>Now, let's briefly explore the process.\n",
    "      "
   ]
  },
  {
   "cell_type": "code",
   "execution_count": 3,
   "id": "ed9a53ed",
   "metadata": {},
   "outputs": [],
   "source": [
    "#import packages\n",
    "import gcb_utils.gcb_utils as gcb_utils\n",
    "import pandas as pd"
   ]
  },
  {
   "cell_type": "markdown",
   "id": "224f29e5",
   "metadata": {},
   "source": [
    "<h2>GUI Demo in Pictures</h2>\n",
    "(The squares shown are from chess games in Chess.com's Youtube channel.)"
   ]
  },
  {
   "cell_type": "code",
   "execution_count": null,
   "id": "479a7419",
   "metadata": {},
   "outputs": [],
   "source": [
    "SQ_LABEL_COLUMNS = ['fname', 'SqColor-BWE', 'PcColor-BWE', 'PcType-PRNBQKE','HumCheck-YN'] \n",
    "\n",
    "def run_sq_label_update():\n",
    "    gcb_utils.insert_data_fnames('data/raw/squares', 'data/model/sq_labels.csv', SQ_LABEL_COLUMNS, update_fn = gcb_utils.square_insert_default_values, update_fn_kwargs={'label_cols':['SqColor-BWE', 'PcColor-BWE', 'PcType-PRNBQKE'], 'hum_check_col':['HumCheck-YN']})\n",
    "    gcb_utils.update_sq_labels('data/raw/squares', 'data/model/sq_labels.csv') \n",
    "\n",
    "run_sq_label_update()\n",
    "\n",
    "#please uncomment the below for documentation\n",
    "#print(help(gcb_utils.insert_data_fnames))\n",
    "#print(help(gcb_utils.square_insert_default_values))\n",
    "#print(help(gcb_utils.update_sq_labels))"
   ]
  },
  {
   "cell_type": "markdown",
   "id": "6960e461",
   "metadata": {},
   "source": [
    "<h3>State Before Labeling</h3>\n",
    "Note that the defaults for piece color and type are E(mpty) and human check is N(o). At this point, Make Estimates is dysfunctional. A plan for the future is to connect the Piece Identification model to it for better default values.\n",
    "\n",
    "\n",
    "![Alt_text](z_markdown_jpgs/SquareLabeling-UnlabeledSquares.png)"
   ]
  },
  {
   "cell_type": "markdown",
   "id": "b4cee664",
   "metadata": {},
   "source": [
    "<h3>State After Labeling</h3>\n",
    "\n",
    "\n",
    "![Alt_text](z_markdown_jpgs/SquareLabeling-LabeledSquares.png)"
   ]
  },
  {
   "cell_type": "markdown",
   "id": "ada2e55b",
   "metadata": {},
   "source": [
    "<h2>Note on Labeling Screenshots - Performance / Use</h2>\n",
    "\n",
    "With my methodology, I was able to label around 5600 squares - perhaps in 6 hours or so.   \n",
    "\n",
    "Because more than half of the labeled squares are empty, let's take a look the breakdown by piece. This will help us understand biases in class distribution and provide remedies if necessary.\n"
   ]
  },
  {
   "cell_type": "code",
   "execution_count": 54,
   "id": "67607e92",
   "metadata": {},
   "outputs": [
    {
     "data": {
      "text/html": [
       "<div>\n",
       "<style scoped>\n",
       "    .dataframe tbody tr th:only-of-type {\n",
       "        vertical-align: middle;\n",
       "    }\n",
       "\n",
       "    .dataframe tbody tr th {\n",
       "        vertical-align: top;\n",
       "    }\n",
       "\n",
       "    .dataframe thead th {\n",
       "        text-align: right;\n",
       "    }\n",
       "</style>\n",
       "<table border=\"1\" class=\"dataframe\">\n",
       "  <thead>\n",
       "    <tr style=\"text-align: right;\">\n",
       "      <th></th>\n",
       "      <th>fname</th>\n",
       "      <th>SqColor-BWE</th>\n",
       "      <th>PcColor-BWE</th>\n",
       "      <th>PcType-PRNBQKE</th>\n",
       "      <th>HumCheck-YN</th>\n",
       "    </tr>\n",
       "  </thead>\n",
       "  <tbody>\n",
       "    <tr>\n",
       "      <th>0</th>\n",
       "      <td>ScreenShot2021-09-30at5-07-40PM_brd_squ_R0_C0.png</td>\n",
       "      <td>W</td>\n",
       "      <td>B</td>\n",
       "      <td>R</td>\n",
       "      <td>Y</td>\n",
       "    </tr>\n",
       "    <tr>\n",
       "      <th>1</th>\n",
       "      <td>ScreenShot2021-09-30at5-07-40PM_brd_squ_R0_C1.png</td>\n",
       "      <td>B</td>\n",
       "      <td>B</td>\n",
       "      <td>N</td>\n",
       "      <td>Y</td>\n",
       "    </tr>\n",
       "    <tr>\n",
       "      <th>2</th>\n",
       "      <td>ScreenShot2021-09-30at5-07-40PM_brd_squ_R0_C2.png</td>\n",
       "      <td>W</td>\n",
       "      <td>B</td>\n",
       "      <td>B</td>\n",
       "      <td>Y</td>\n",
       "    </tr>\n",
       "    <tr>\n",
       "      <th>3</th>\n",
       "      <td>ScreenShot2021-09-30at5-07-40PM_brd_squ_R0_C3.png</td>\n",
       "      <td>B</td>\n",
       "      <td>B</td>\n",
       "      <td>Q</td>\n",
       "      <td>Y</td>\n",
       "    </tr>\n",
       "    <tr>\n",
       "      <th>4</th>\n",
       "      <td>ScreenShot2021-09-30at5-07-40PM_brd_squ_R0_C4.png</td>\n",
       "      <td>W</td>\n",
       "      <td>B</td>\n",
       "      <td>K</td>\n",
       "      <td>Y</td>\n",
       "    </tr>\n",
       "  </tbody>\n",
       "</table>\n",
       "</div>"
      ],
      "text/plain": [
       "                                               fname SqColor-BWE PcColor-BWE  \\\n",
       "0  ScreenShot2021-09-30at5-07-40PM_brd_squ_R0_C0.png           W           B   \n",
       "1  ScreenShot2021-09-30at5-07-40PM_brd_squ_R0_C1.png           B           B   \n",
       "2  ScreenShot2021-09-30at5-07-40PM_brd_squ_R0_C2.png           W           B   \n",
       "3  ScreenShot2021-09-30at5-07-40PM_brd_squ_R0_C3.png           B           B   \n",
       "4  ScreenShot2021-09-30at5-07-40PM_brd_squ_R0_C4.png           W           B   \n",
       "\n",
       "  PcType-PRNBQKE HumCheck-YN  \n",
       "0              R           Y  \n",
       "1              N           Y  \n",
       "2              B           Y  \n",
       "3              Q           Y  \n",
       "4              K           Y  "
      ]
     },
     "execution_count": 54,
     "metadata": {},
     "output_type": "execute_result"
    }
   ],
   "source": [
    "square_csv_full_path = 'data/model/sq_labels.csv'\n",
    "squares_df = pd.read_csv(square_csv_full_path)\n",
    "squares_df.head()"
   ]
  },
  {
   "cell_type": "code",
   "execution_count": 56,
   "id": "4e191d0e",
   "metadata": {},
   "outputs": [
    {
     "name": "stdout",
     "output_type": "stream",
     "text": [
      "Count of Pieces by Color and Type - includes E(mpty) squares\n"
     ]
    },
    {
     "data": {
      "text/html": [
       "<div>\n",
       "<style scoped>\n",
       "    .dataframe tbody tr th:only-of-type {\n",
       "        vertical-align: middle;\n",
       "    }\n",
       "\n",
       "    .dataframe tbody tr th {\n",
       "        vertical-align: top;\n",
       "    }\n",
       "\n",
       "    .dataframe thead tr th {\n",
       "        text-align: left;\n",
       "    }\n",
       "\n",
       "    .dataframe thead tr:last-of-type th {\n",
       "        text-align: right;\n",
       "    }\n",
       "</style>\n",
       "<table border=\"1\" class=\"dataframe\">\n",
       "  <thead>\n",
       "    <tr>\n",
       "      <th></th>\n",
       "      <th colspan=\"8\" halign=\"left\">fname</th>\n",
       "    </tr>\n",
       "    <tr>\n",
       "      <th>PcType-PRNBQKE</th>\n",
       "      <th>B</th>\n",
       "      <th>E</th>\n",
       "      <th>K</th>\n",
       "      <th>N</th>\n",
       "      <th>P</th>\n",
       "      <th>Q</th>\n",
       "      <th>R</th>\n",
       "      <th>All</th>\n",
       "    </tr>\n",
       "    <tr>\n",
       "      <th>PcColor-BWE</th>\n",
       "      <th></th>\n",
       "      <th></th>\n",
       "      <th></th>\n",
       "      <th></th>\n",
       "      <th></th>\n",
       "      <th></th>\n",
       "      <th></th>\n",
       "      <th></th>\n",
       "    </tr>\n",
       "  </thead>\n",
       "  <tbody>\n",
       "    <tr>\n",
       "      <th>B</th>\n",
       "      <td>117.0</td>\n",
       "      <td>-</td>\n",
       "      <td>89.0</td>\n",
       "      <td>112.0</td>\n",
       "      <td>531.0</td>\n",
       "      <td>65.0</td>\n",
       "      <td>145.0</td>\n",
       "      <td>1059</td>\n",
       "    </tr>\n",
       "    <tr>\n",
       "      <th>E</th>\n",
       "      <td>-</td>\n",
       "      <td>3525.0</td>\n",
       "      <td>-</td>\n",
       "      <td>-</td>\n",
       "      <td>-</td>\n",
       "      <td>-</td>\n",
       "      <td>-</td>\n",
       "      <td>3525</td>\n",
       "    </tr>\n",
       "    <tr>\n",
       "      <th>W</th>\n",
       "      <td>118.0</td>\n",
       "      <td>-</td>\n",
       "      <td>85.0</td>\n",
       "      <td>114.0</td>\n",
       "      <td>531.0</td>\n",
       "      <td>67.0</td>\n",
       "      <td>143.0</td>\n",
       "      <td>1058</td>\n",
       "    </tr>\n",
       "    <tr>\n",
       "      <th>All</th>\n",
       "      <td>235</td>\n",
       "      <td>3525</td>\n",
       "      <td>174</td>\n",
       "      <td>226</td>\n",
       "      <td>1062</td>\n",
       "      <td>132</td>\n",
       "      <td>288</td>\n",
       "      <td>5642</td>\n",
       "    </tr>\n",
       "  </tbody>\n",
       "</table>\n",
       "</div>"
      ],
      "text/plain": [
       "                fname                                               \n",
       "PcType-PRNBQKE      B       E     K      N      P     Q      R   All\n",
       "PcColor-BWE                                                         \n",
       "B               117.0       -  89.0  112.0  531.0  65.0  145.0  1059\n",
       "E                   -  3525.0     -      -      -     -      -  3525\n",
       "W               118.0       -  85.0  114.0  531.0  67.0  143.0  1058\n",
       "All               235    3525   174    226   1062   132    288  5642"
      ]
     },
     "execution_count": 56,
     "metadata": {},
     "output_type": "execute_result"
    }
   ],
   "source": [
    "hc_yes = squares_df['HumCheck-YN']=='Y'\n",
    "pc_col_notE = squares_df['PcType-PRNBQKE'] != 'E'\n",
    "target_cols = ['fname','PcColor-BWE', 'PcType-PRNBQKE']\n",
    "\n",
    "square_counts_df = squares_df[hc_yes][target_cols].pivot_table(\n",
    "        columns = ['PcType-PRNBQKE'],\n",
    "        index = ['PcColor-BWE'], \n",
    "        values = ['fname'],\n",
    "        aggfunc = 'count',\n",
    "        margins = True, \n",
    "        fill_value = '-')\n",
    "\n",
    "print('Count of Pieces by Color and Type - includes E(mpty) squares')\n",
    "square_counts_df\n",
    "\n",
    "\n",
    "\n"
   ]
  },
  {
   "cell_type": "markdown",
   "id": "ffc625d4",
   "metadata": {},
   "source": [
    "From the above, we can see that, as expected Empty squares make more than half (\\~62.5%) of the sample creating a bias. In aggregate, next are Pawns (\\~19%) followed by Rooks (\\~5%), Bishops (\\~4%), kNights (\\~4%), Kings (\\~3%) and Queens (\\~2.5%).   <br>\n",
    "\n",
    "However, the \"In aggregate\" statement above is comes with a potentially big caveat. Noting that the black and white seem balanced, the weights of each piece type should be halved if one were to classify across piece color and type. <br>"
   ]
  }
 ],
 "metadata": {
  "interpreter": {
   "hash": "220e10ff8ec8c0a2ee704b9ba1623fbaf79aa98a681a616ca665c089912d6d5d"
  },
  "kernelspec": {
   "display_name": "pyt",
   "language": "python",
   "name": "pyt"
  },
  "language_info": {
   "codemirror_mode": {
    "name": "ipython",
    "version": 3
   },
   "file_extension": ".py",
   "mimetype": "text/x-python",
   "name": "python",
   "nbconvert_exporter": "python",
   "pygments_lexer": "ipython3",
   "version": "3.8.12"
  }
 },
 "nbformat": 4,
 "nbformat_minor": 5
}
